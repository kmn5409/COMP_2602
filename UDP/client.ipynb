{
 "cells": [
  {
   "cell_type": "code",
   "execution_count": 1,
   "metadata": {},
   "outputs": [
    {
     "name": "stdout",
     "output_type": "stream",
     "text": [
      "Input lowercase sentence: computer\n",
      "Sent to Make Upper Case Server running over UDP:  computer\n",
      "Received back from Server:  COMPUTER\n"
     ]
    }
   ],
   "source": [
    "from socket import *\n",
    "\n",
    "# STUDENTS - replace with your server machine's name \n",
    "serverName = \"localhost\"\n",
    "\n",
    "# STUDENTS - randomize your port number (use the same one in the server)         \n",
    "# This port number in practice is often a \"Well Known Number\"  \n",
    "serverPort = 12004\n",
    "\n",
    "# create UDP socket\n",
    "# Error in book? clientSocket = socket(socket.AF_INET, socket.SOCK_DGRAM)\n",
    "#    corrected by  Amer 4-2013 \n",
    "clientSocket = socket(AF_INET, SOCK_DGRAM)\n",
    "\n",
    "\n",
    "# get user's input from keyboard\n",
    "# raw_input changed to input for Python 3  Amer 4-2013\n",
    "message = input(\"Input lowercase sentence: \")\n",
    "\n",
    "# send user's sentence out socket; destination host and port number req'd\n",
    "# need to cast message to bytes for Python 3   Amer 4-2013\n",
    "clientSocket.sendto(bytes(message,\"utf-8\"), (serverName, serverPort))\n",
    "\n",
    "print (\"Sent to Make Upper Case Server running over UDP: \", message)\n",
    "\n",
    "# receive modified sentence in all upper case letters from server\n",
    "modifiedMessage, serverAddress = clientSocket.recvfrom(2048)\n",
    "\n",
    "# output modified sentence and close the socket\n",
    "print (\"Received back from Server: \", modifiedMessage.decode())"
   ]
  },
  {
   "cell_type": "code",
   "execution_count": 3,
   "metadata": {},
   "outputs": [
    {
     "data": {
      "text/plain": [
       "'\\nInput lowercase sentence: test\\nSent to Make Upper Case Server running over UDP:  test\\nReceived back from Server:  TEST\\n>>> \\n'"
      ]
     },
     "execution_count": 3,
     "metadata": {},
     "output_type": "execute_result"
    }
   ],
   "source": [
    "# close the UDP socket\n",
    "clientSocket.close()\n",
    "\n",
    "'''\n",
    "Input lowercase sentence: test\n",
    "Sent to Make Upper Case Server running over UDP:  test\n",
    "Received back from Server:  TEST\n",
    ">>> \n",
    "'''"
   ]
  }
 ],
 "metadata": {
  "kernelspec": {
   "display_name": "Python 3",
   "language": "python",
   "name": "python3"
  },
  "language_info": {
   "codemirror_mode": {
    "name": "ipython",
    "version": 3
   },
   "file_extension": ".py",
   "mimetype": "text/x-python",
   "name": "python",
   "nbconvert_exporter": "python",
   "pygments_lexer": "ipython3",
   "version": "3.6.3"
  }
 },
 "nbformat": 4,
 "nbformat_minor": 2
}
