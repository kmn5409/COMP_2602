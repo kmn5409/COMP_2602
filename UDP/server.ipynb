{
 "cells": [
  {
   "cell_type": "code",
   "execution_count": null,
   "metadata": {},
   "outputs": [
    {
     "name": "stdout",
     "output_type": "stream",
     "text": [
      "The Make Upper Case Server running over UDP is ready to receive ... \n",
      "Received from Client:  b'computer'\n",
      "Sent back to Client:  b'COMPUTER'\n"
     ]
    }
   ],
   "source": [
    "##########################################################################\n",
    "\"\"\" UDPServer.py                                     \n",
    "Use the better name for this module:    MakeUpperCaseServerUsingUDP   \n",
    "  \n",
    "[STUDENTS FILL IN THE ITEMS BELOW]  \n",
    "  STUDENT NAME                                 \n",
    "  COURSE NAME and SEMESTER                    \n",
    "  DATE                                         \n",
    "  This module will <blah, blah, blah>              \n",
    "\"\"\"\n",
    "\n",
    "from socket import *\n",
    "\n",
    "# STUDENTS - you should randomize your port number.         \n",
    "# This port number in practice is often a \"Well Known Number\" \n",
    "serverPort = 12004\n",
    "\n",
    "# create UDP socket and bind to your specified port\n",
    "serverSocket = socket(AF_INET, SOCK_DGRAM)\n",
    "serverSocket.bind((\"\", serverPort))\n",
    "\n",
    "# output to console that server is listening\n",
    "print (\"The Make Upper Case Server running over UDP is ready to receive ... \")\n",
    "\n",
    "while 1:\n",
    "    # read client's message AND REMEMBER client's address (IP and port)\n",
    "    message, clientAddress = serverSocket.recvfrom(2048)\n",
    "\n",
    "    # output to console the sentence received from client over UDP\n",
    "    print (\"Received from Client: \", message)\n",
    "\t\n",
    "    # change client's sentence to upper case letters\n",
    "    modifiedMessage = message.upper()\n",
    "\t\n",
    "    # send back modified sentence to the client using remembered address\n",
    "    serverSocket.sendto(modifiedMessage, clientAddress)\n",
    " \n",
    "    # output to console the modified sentence sent back to client\n",
    "    print (\"Sent back to Client: \", modifiedMessage)\n",
    "'''\n",
    "The Make Upper Case Server running over UDP is ready to receive ... \n",
    "Received from Client:  test\n",
    "Sent back to Client:  TEST\n",
    "'''\n"
   ]
  }
 ],
 "metadata": {
  "kernelspec": {
   "display_name": "Python 3",
   "language": "python",
   "name": "python3"
  },
  "language_info": {
   "codemirror_mode": {
    "name": "ipython",
    "version": 3
   },
   "file_extension": ".py",
   "mimetype": "text/x-python",
   "name": "python",
   "nbconvert_exporter": "python",
   "pygments_lexer": "ipython3",
   "version": "3.6.3"
  }
 },
 "nbformat": 4,
 "nbformat_minor": 2
}
